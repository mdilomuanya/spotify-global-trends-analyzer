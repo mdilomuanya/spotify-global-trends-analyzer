{
 "cells": [
  {
   "cell_type": "markdown",
   "id": "8171b0e2-06c3-40cf-9c37-0390c38a9abb",
   "metadata": {},
   "source": [
    "# Loading in csv files and creating the initial dataframe"
   ]
  },
  {
   "cell_type": "code",
   "execution_count": 70,
   "id": "55013297-81f7-483b-9141-799ebd093f4a",
   "metadata": {
    "tags": []
   },
   "outputs": [],
   "source": [
    "import pandas as pd\n",
    "\n",
    "# Reading in CSVs for each country\n",
    "usa_df = pd.read_csv(\"regional-us-weekly-2025-07-17.csv\")\n",
    "usa_df[\"country\"] = \"USA\"\n",
    "\n",
    "canada_df = pd.read_csv(\"regional-ca-weekly-2025-07-17.csv\")\n",
    "canada_df[\"country\"] = \"Canada\"\n",
    "\n",
    "nigeria_df = pd.read_csv(\"regional-ng-weekly-2025-07-17.csv\")\n",
    "nigeria_df[\"country\"] = \"Nigeria\"\n",
    "\n",
    "sa_df = pd.read_csv(\"regional-za-weekly-2025-07-17.csv\")\n",
    "sa_df[\"country\"] = \"South Africa\"\n",
    "\n",
    "uk_df = pd.read_csv(\"regional-gb-weekly-2025-07-17.csv\")\n",
    "uk_df[\"country\"] = \"UK\"\n",
    "\n",
    "france_df = pd.read_csv(\"regional-fr-weekly-2025-07-17.csv\")\n",
    "france_df[\"country\"] = \"France\"\n",
    "\n",
    "brazil_df = pd.read_csv(\"regional-br-weekly-2025-07-17.csv\")\n",
    "brazil_df[\"country\"] = \"Brazil\"\n",
    "\n",
    "colombia_df = pd.read_csv(\"regional-co-weekly-2025-07-17.csv\")\n",
    "colombia_df[\"country\"] = \"Colombia\"\n",
    "\n",
    "india_df = pd.read_csv(\"regional-in-weekly-2025-07-17.csv\")\n",
    "india_df[\"country\"] = \"India\"\n",
    "\n",
    "sk_df = pd.read_csv(\"regional-kr-weekly-2025-07-17.csv\")\n",
    "sk_df[\"country\"] = \"South Korea\"\n",
    "\n",
    "# concat for one dataframe\n",
    "final_df = pd.concat([usa_df, canada_df, nigeria_df, sa_df, uk_df, france_df, brazil_df, colombia_df, india_df, sk_df])\n"
   ]
  },
  {
   "cell_type": "code",
   "execution_count": 71,
   "id": "ee6ab319-5647-4f91-a741-be50d11ff0ad",
   "metadata": {
    "tags": []
   },
   "outputs": [
    {
     "data": {
      "text/html": [
       "<div>\n",
       "<style scoped>\n",
       "    .dataframe tbody tr th:only-of-type {\n",
       "        vertical-align: middle;\n",
       "    }\n",
       "\n",
       "    .dataframe tbody tr th {\n",
       "        vertical-align: top;\n",
       "    }\n",
       "\n",
       "    .dataframe thead th {\n",
       "        text-align: right;\n",
       "    }\n",
       "</style>\n",
       "<table border=\"1\" class=\"dataframe\">\n",
       "  <thead>\n",
       "    <tr style=\"text-align: right;\">\n",
       "      <th></th>\n",
       "      <th>rank</th>\n",
       "      <th>uri</th>\n",
       "      <th>artist_names</th>\n",
       "      <th>track_name</th>\n",
       "      <th>source</th>\n",
       "      <th>peak_rank</th>\n",
       "      <th>previous_rank</th>\n",
       "      <th>weeks_on_chart</th>\n",
       "      <th>streams</th>\n",
       "      <th>country</th>\n",
       "    </tr>\n",
       "  </thead>\n",
       "  <tbody>\n",
       "    <tr>\n",
       "      <th>0</th>\n",
       "      <td>1</td>\n",
       "      <td>spotify:track:5BZsQlgw21vDOAjoqkNgKb</td>\n",
       "      <td>Justin Bieber</td>\n",
       "      <td>DAISIES</td>\n",
       "      <td>ILH Production Co. LLC / Def Jam Recordings</td>\n",
       "      <td>1</td>\n",
       "      <td>-1</td>\n",
       "      <td>1</td>\n",
       "      <td>14380416</td>\n",
       "      <td>USA</td>\n",
       "    </tr>\n",
       "    <tr>\n",
       "      <th>1</th>\n",
       "      <td>2</td>\n",
       "      <td>spotify:track:1CPZ5BxNNd0n0nF4Orb9JS</td>\n",
       "      <td>HUNTR/X, EJAE, AUDREY NUNA, REI AMI, KPop Demo...</td>\n",
       "      <td>Golden</td>\n",
       "      <td>K-Pop Demon Hunters</td>\n",
       "      <td>1</td>\n",
       "      <td>1</td>\n",
       "      <td>4</td>\n",
       "      <td>11130174</td>\n",
       "      <td>USA</td>\n",
       "    </tr>\n",
       "    <tr>\n",
       "      <th>2</th>\n",
       "      <td>3</td>\n",
       "      <td>spotify:track:1I37Zz2g3hk9eWxaNkj031</td>\n",
       "      <td>Saja Boys, Andrew Choi, Neckwav, Danny Chung, ...</td>\n",
       "      <td>Your Idol</td>\n",
       "      <td>K-Pop Demon Hunters</td>\n",
       "      <td>2</td>\n",
       "      <td>2</td>\n",
       "      <td>4</td>\n",
       "      <td>10110068</td>\n",
       "      <td>USA</td>\n",
       "    </tr>\n",
       "    <tr>\n",
       "      <th>3</th>\n",
       "      <td>4</td>\n",
       "      <td>spotify:track:29iva9idM6rFCPUlu7Rhxl</td>\n",
       "      <td>Justin Bieber</td>\n",
       "      <td>YUKON</td>\n",
       "      <td>ILH Production Co. LLC / Def Jam Recordings</td>\n",
       "      <td>4</td>\n",
       "      <td>-1</td>\n",
       "      <td>1</td>\n",
       "      <td>8229734</td>\n",
       "      <td>USA</td>\n",
       "    </tr>\n",
       "    <tr>\n",
       "      <th>4</th>\n",
       "      <td>5</td>\n",
       "      <td>spotify:track:3RXUgPNIbUgFxsDWuBQEt6</td>\n",
       "      <td>HUNTR/X, EJAE, AUDREY NUNA, REI AMI, KPop Demo...</td>\n",
       "      <td>How It’s Done</td>\n",
       "      <td>K-Pop Demon Hunters</td>\n",
       "      <td>5</td>\n",
       "      <td>6</td>\n",
       "      <td>4</td>\n",
       "      <td>7974883</td>\n",
       "      <td>USA</td>\n",
       "    </tr>\n",
       "    <tr>\n",
       "      <th>...</th>\n",
       "      <td>...</td>\n",
       "      <td>...</td>\n",
       "      <td>...</td>\n",
       "      <td>...</td>\n",
       "      <td>...</td>\n",
       "      <td>...</td>\n",
       "      <td>...</td>\n",
       "      <td>...</td>\n",
       "      <td>...</td>\n",
       "      <td>...</td>\n",
       "    </tr>\n",
       "    <tr>\n",
       "      <th>195</th>\n",
       "      <td>196</td>\n",
       "      <td>spotify:track:2kIUILBPlz4exX9xIFS275</td>\n",
       "      <td>ILLIT</td>\n",
       "      <td>Lucky Girl Syndrome</td>\n",
       "      <td>BELIFT LAB</td>\n",
       "      <td>23</td>\n",
       "      <td>180</td>\n",
       "      <td>69</td>\n",
       "      <td>55147</td>\n",
       "      <td>South Korea</td>\n",
       "    </tr>\n",
       "    <tr>\n",
       "      <th>196</th>\n",
       "      <td>197</td>\n",
       "      <td>spotify:track:2lsRp40mCRkhqULWdMbOzn</td>\n",
       "      <td>Lim Young Woong</td>\n",
       "      <td>I Love You</td>\n",
       "      <td>물고기뮤직</td>\n",
       "      <td>15</td>\n",
       "      <td>150</td>\n",
       "      <td>166</td>\n",
       "      <td>54900</td>\n",
       "      <td>South Korea</td>\n",
       "    </tr>\n",
       "    <tr>\n",
       "      <th>197</th>\n",
       "      <td>198</td>\n",
       "      <td>spotify:track:4iJprGt1rt5iy0sxXXaRWn</td>\n",
       "      <td>D-Hack, PATEKO</td>\n",
       "      <td>OHAYO MY NIGHT</td>\n",
       "      <td>NEOKIDZ</td>\n",
       "      <td>16</td>\n",
       "      <td>200</td>\n",
       "      <td>70</td>\n",
       "      <td>54800</td>\n",
       "      <td>South Korea</td>\n",
       "    </tr>\n",
       "    <tr>\n",
       "      <th>198</th>\n",
       "      <td>199</td>\n",
       "      <td>spotify:track:3KcHHPN23AwgnSkq7TouwW</td>\n",
       "      <td>aespa, Flo Milli</td>\n",
       "      <td>Dirty Work (feat. Flo Milli)</td>\n",
       "      <td>aespa</td>\n",
       "      <td>45</td>\n",
       "      <td>82</td>\n",
       "      <td>3</td>\n",
       "      <td>54595</td>\n",
       "      <td>South Korea</td>\n",
       "    </tr>\n",
       "    <tr>\n",
       "      <th>199</th>\n",
       "      <td>200</td>\n",
       "      <td>spotify:track:5G0NPSOTLepHxUhEMlVjWj</td>\n",
       "      <td>SPYAIR</td>\n",
       "      <td>サムライハート(Some Like It Hot!!)</td>\n",
       "      <td>Sony Music Labels Inc.</td>\n",
       "      <td>103</td>\n",
       "      <td>198</td>\n",
       "      <td>45</td>\n",
       "      <td>54069</td>\n",
       "      <td>South Korea</td>\n",
       "    </tr>\n",
       "  </tbody>\n",
       "</table>\n",
       "<p>2000 rows × 10 columns</p>\n",
       "</div>"
      ],
      "text/plain": [
       "     rank                                   uri  \\\n",
       "0       1  spotify:track:5BZsQlgw21vDOAjoqkNgKb   \n",
       "1       2  spotify:track:1CPZ5BxNNd0n0nF4Orb9JS   \n",
       "2       3  spotify:track:1I37Zz2g3hk9eWxaNkj031   \n",
       "3       4  spotify:track:29iva9idM6rFCPUlu7Rhxl   \n",
       "4       5  spotify:track:3RXUgPNIbUgFxsDWuBQEt6   \n",
       "..    ...                                   ...   \n",
       "195   196  spotify:track:2kIUILBPlz4exX9xIFS275   \n",
       "196   197  spotify:track:2lsRp40mCRkhqULWdMbOzn   \n",
       "197   198  spotify:track:4iJprGt1rt5iy0sxXXaRWn   \n",
       "198   199  spotify:track:3KcHHPN23AwgnSkq7TouwW   \n",
       "199   200  spotify:track:5G0NPSOTLepHxUhEMlVjWj   \n",
       "\n",
       "                                          artist_names  \\\n",
       "0                                        Justin Bieber   \n",
       "1    HUNTR/X, EJAE, AUDREY NUNA, REI AMI, KPop Demo...   \n",
       "2    Saja Boys, Andrew Choi, Neckwav, Danny Chung, ...   \n",
       "3                                        Justin Bieber   \n",
       "4    HUNTR/X, EJAE, AUDREY NUNA, REI AMI, KPop Demo...   \n",
       "..                                                 ...   \n",
       "195                                              ILLIT   \n",
       "196                                    Lim Young Woong   \n",
       "197                                     D-Hack, PATEKO   \n",
       "198                                   aespa, Flo Milli   \n",
       "199                                             SPYAIR   \n",
       "\n",
       "                       track_name  \\\n",
       "0                         DAISIES   \n",
       "1                          Golden   \n",
       "2                       Your Idol   \n",
       "3                           YUKON   \n",
       "4                   How It’s Done   \n",
       "..                            ...   \n",
       "195           Lucky Girl Syndrome   \n",
       "196                    I Love You   \n",
       "197                OHAYO MY NIGHT   \n",
       "198  Dirty Work (feat. Flo Milli)   \n",
       "199   サムライハート(Some Like It Hot!!)   \n",
       "\n",
       "                                          source  peak_rank  previous_rank  \\\n",
       "0    ILH Production Co. LLC / Def Jam Recordings          1             -1   \n",
       "1                            K-Pop Demon Hunters          1              1   \n",
       "2                            K-Pop Demon Hunters          2              2   \n",
       "3    ILH Production Co. LLC / Def Jam Recordings          4             -1   \n",
       "4                            K-Pop Demon Hunters          5              6   \n",
       "..                                           ...        ...            ...   \n",
       "195                                   BELIFT LAB         23            180   \n",
       "196                                        물고기뮤직         15            150   \n",
       "197                                      NEOKIDZ         16            200   \n",
       "198                                        aespa         45             82   \n",
       "199                       Sony Music Labels Inc.        103            198   \n",
       "\n",
       "     weeks_on_chart   streams      country  \n",
       "0                 1  14380416          USA  \n",
       "1                 4  11130174          USA  \n",
       "2                 4  10110068          USA  \n",
       "3                 1   8229734          USA  \n",
       "4                 4   7974883          USA  \n",
       "..              ...       ...          ...  \n",
       "195              69     55147  South Korea  \n",
       "196             166     54900  South Korea  \n",
       "197              70     54800  South Korea  \n",
       "198               3     54595  South Korea  \n",
       "199              45     54069  South Korea  \n",
       "\n",
       "[2000 rows x 10 columns]"
      ]
     },
     "execution_count": 71,
     "metadata": {},
     "output_type": "execute_result"
    }
   ],
   "source": [
    "final_df"
   ]
  },
  {
   "cell_type": "code",
   "execution_count": 52,
   "id": "400be9e5-de2b-47cf-8122-34f42a6c9ddc",
   "metadata": {
    "tags": []
   },
   "outputs": [
    {
     "name": "stdout",
     "output_type": "stream",
     "text": [
      "Index(['rank', 'uri', 'artist_names', 'track_name', 'source', 'peak_rank',\n",
      "       'previous_rank', 'weeks_on_chart', 'streams', 'country'],\n",
      "      dtype='object')\n"
     ]
    }
   ],
   "source": [
    "print(final_df.columns)"
   ]
  },
  {
   "cell_type": "code",
   "execution_count": 73,
   "id": "3af2977f-a504-4dbf-8cac-04cba15f5e0f",
   "metadata": {
    "tags": []
   },
   "outputs": [],
   "source": [
    "# Extract the track ID from the Spotify URI using regex\n",
    "final_df['track_id'] = final_df['uri'].str.extract(r'spotify:track:([a-zA-Z0-9]+)')"
   ]
  },
  {
   "cell_type": "markdown",
   "id": "004cf57d-2dbe-4122-b6ea-1975501395da",
   "metadata": {},
   "source": [
    "# Accessing spotify API to get more in depth data"
   ]
  },
  {
   "cell_type": "code",
   "execution_count": 54,
   "id": "a022f61b-6e83-44c4-9c2a-9c18d3554092",
   "metadata": {
    "tags": []
   },
   "outputs": [
    {
     "name": "stdout",
     "output_type": "stream",
     "text": [
      "Requirement already satisfied: python-dotenv in /opt/anaconda3/envs/jupyterlab_3/6/7/lib/python3.11/site-packages (1.1.1)\n",
      "Note: you may need to restart the kernel to use updated packages.\n"
     ]
    }
   ],
   "source": [
    "pip install python-dotenv"
   ]
  },
  {
   "cell_type": "code",
   "execution_count": 74,
   "id": "d9a4e6d3-1072-4eea-a193-a8a04282f810",
   "metadata": {
    "tags": []
   },
   "outputs": [],
   "source": [
    "from dotenv import load_dotenv\n",
    "import os\n",
    "import time\n",
    "\n",
    "# Load the environment variables from .env file\n",
    "load_dotenv()\n",
    "\n",
    "# Access the values\n",
    "client_id = os.getenv(\"SPOTIPY_CLIENT_ID\")\n",
    "client_secret = os.getenv(\"SPOTIPY_CLIENT_SECRET\")\n",
    "\n",
    "# Initialize Spotipy\n",
    "import spotipy\n",
    "from spotipy.oauth2 import SpotifyClientCredentials\n",
    "\n",
    "sp = spotipy.Spotify(auth_manager=SpotifyClientCredentials(\n",
    "    client_id=client_id,\n",
    "    client_secret=client_secret))\n"
   ]
  },
  {
   "cell_type": "code",
   "execution_count": 75,
   "id": "60af5dbb-3578-4324-a3ee-0c4af1c737d7",
   "metadata": {
    "tags": []
   },
   "outputs": [],
   "source": [
    "# Define a function that gets artist info for a given track ID\n",
    "def get_artist_info(track_id):\n",
    "    try:\n",
    "        # Get track details from the Spotify API\n",
    "        track = sp.track(track_id)\n",
    "        \n",
    "        # Get the first artist's ID\n",
    "        artist_id = track['artists'][0]['id']\n",
    "        \n",
    "        # Use that ID to fetch the artist's full info\n",
    "        artist_data = sp.artist(artist_id)\n",
    "        \n",
    "        # Return artist name, genres, and popularity\n",
    "        return pd.Series([\n",
    "            artist_data['name'],\n",
    "            artist_data['genres'],\n",
    "            artist_data['popularity']\n",
    "        ])\n",
    "    except Exception as e:\n",
    "        print(f\"Error for {track_id}: {e}\")\n",
    "        return pd.Series([None, None, None])"
   ]
  },
  {
   "cell_type": "code",
   "execution_count": 76,
   "id": "ac5352bd-8957-4734-95d6-d1a4e18421f8",
   "metadata": {
    "tags": []
   },
   "outputs": [
    {
     "name": "stdout",
     "output_type": "stream",
     "text": [
      "Error for 6393yGahSJ9slVdOwSxOVR: HTTPSConnectionPool(host='api.spotify.com', port=443): Read timed out. (read timeout=5)\n",
      "Error for 2CeKVsFFXG4QzA415QygGb: HTTPSConnectionPool(host='api.spotify.com', port=443): Read timed out. (read timeout=5)\n"
     ]
    }
   ],
   "source": [
    "# Add delay to avoid hitting API rate limits (max 10 requests/sec for client credentials flow)\n",
    "def get_artist_info_safe(track_id):\n",
    "    time.sleep(0.1)  # Adjust as needed\n",
    "    return get_artist_info(track_id)\n",
    "\n",
    "# Apply to the entire final_df\n",
    "final_df[['main_artist', 'artist_genres', 'artist_popularity']] = final_df['track_id'].apply(get_artist_info_safe)"
   ]
  },
  {
   "cell_type": "code",
   "execution_count": 77,
   "id": "f048f9cd-14bb-49d1-a790-be0e5eac952a",
   "metadata": {
    "tags": []
   },
   "outputs": [],
   "source": [
    "final_df.to_csv(\"spotify_enriched.csv\", index=False)"
   ]
  },
  {
   "cell_type": "code",
   "execution_count": null,
   "id": "44a0307b-d5ac-4d20-8874-30d459c1bbbb",
   "metadata": {},
   "outputs": [],
   "source": []
  }
 ],
 "metadata": {
  "kernelspec": {
   "display_name": "Python 3 (ipykernel)",
   "language": "python",
   "name": "python3"
  },
  "language_info": {
   "codemirror_mode": {
    "name": "ipython",
    "version": 3
   },
   "file_extension": ".py",
   "mimetype": "text/x-python",
   "name": "python",
   "nbconvert_exporter": "python",
   "pygments_lexer": "ipython3",
   "version": "3.11.11"
  },
  "toc-autonumbering": true,
  "toc-showcode": true
 },
 "nbformat": 4,
 "nbformat_minor": 5
}
